{
 "cells": [
  {
   "cell_type": "markdown",
   "id": "40372eeb-779f-4839-9b00-8647f7bdff61",
   "metadata": {},
   "source": [
    "# Simple functions to showcase automated file transfer to nextcloud"
   ]
  },
  {
   "cell_type": "markdown",
   "id": "1fb9dfa5-0169-4b48-b911-070617e34a56",
   "metadata": {},
   "source": [
    "## Functions to create dummy CML data CSV files"
   ]
  },
  {
   "cell_type": "code",
   "execution_count": 1,
   "id": "9ab18de6-9511-40c6-94db-ab1dc53221d9",
   "metadata": {},
   "outputs": [
    {
     "data": {
      "text/html": [
       "<div>\n",
       "<style scoped>\n",
       "    .dataframe tbody tr th:only-of-type {\n",
       "        vertical-align: middle;\n",
       "    }\n",
       "\n",
       "    .dataframe tbody tr th {\n",
       "        vertical-align: top;\n",
       "    }\n",
       "\n",
       "    .dataframe thead th {\n",
       "        text-align: right;\n",
       "    }\n",
       "</style>\n",
       "<table border=\"1\" class=\"dataframe\">\n",
       "  <thead>\n",
       "    <tr style=\"text-align: right;\">\n",
       "      <th></th>\n",
       "      <th></th>\n",
       "      <th>tsl</th>\n",
       "      <th>rsl</th>\n",
       "    </tr>\n",
       "    <tr>\n",
       "      <th>cml_id</th>\n",
       "      <th>time</th>\n",
       "      <th></th>\n",
       "      <th></th>\n",
       "    </tr>\n",
       "  </thead>\n",
       "  <tbody>\n",
       "    <tr>\n",
       "      <th>10001</th>\n",
       "      <th>2015-08-27 01:34:00</th>\n",
       "      <td>1.0</td>\n",
       "      <td>-46.400002</td>\n",
       "    </tr>\n",
       "    <tr>\n",
       "      <th>10002</th>\n",
       "      <th>2015-08-27 01:34:00</th>\n",
       "      <td>0.0</td>\n",
       "      <td>-41.000000</td>\n",
       "    </tr>\n",
       "    <tr>\n",
       "      <th>10003</th>\n",
       "      <th>2015-08-27 01:34:00</th>\n",
       "      <td>-5.0</td>\n",
       "      <td>-39.799999</td>\n",
       "    </tr>\n",
       "    <tr>\n",
       "      <th>10004</th>\n",
       "      <th>2015-08-27 01:34:00</th>\n",
       "      <td>-1.0</td>\n",
       "      <td>-49.500000</td>\n",
       "    </tr>\n",
       "    <tr>\n",
       "      <th>10005</th>\n",
       "      <th>2015-08-27 01:34:00</th>\n",
       "      <td>4.0</td>\n",
       "      <td>-45.700001</td>\n",
       "    </tr>\n",
       "  </tbody>\n",
       "</table>\n",
       "</div>"
      ],
      "text/plain": [
       "                            tsl        rsl\n",
       "cml_id time                               \n",
       "10001  2015-08-27 01:34:00  1.0 -46.400002\n",
       "10002  2015-08-27 01:34:00  0.0 -41.000000\n",
       "10003  2015-08-27 01:34:00 -5.0 -39.799999\n",
       "10004  2015-08-27 01:34:00 -1.0 -49.500000\n",
       "10005  2015-08-27 01:34:00  4.0 -45.700001"
      ]
     },
     "execution_count": 1,
     "metadata": {},
     "output_type": "execute_result"
    }
   ],
   "source": [
    "import pandas as pd\n",
    "import xarray as xr\n",
    "import datetime\n",
    "\n",
    "ds_cmls = xr.open_dataset('openMRG_CML_180minutes.nc')\n",
    "# cut to exactly 60 minutes\n",
    "ds_cmls = ds_cmls.sel(time=slice('2015-08-27T01:00:00.00', '2015-08-27T01:59:00.00'))\n",
    "\n",
    "def create_cml_data_for_current_minute():\n",
    "    t_now = datetime.datetime.utcnow()\n",
    "    df = (\n",
    "        ds_cmls\n",
    "        .isel(time=(ds_cmls.time.dt.minute == t_now.minute))\n",
    "        .isel(sublink_id=0)\n",
    "        .to_dataframe()\n",
    "    )\n",
    "    return df.loc[:, ['tsl', 'rsl']]\n",
    "\n",
    "def write_cml_data_to_file(df, data_dir='cml_data', print_info=False):\n",
    "    import os\n",
    "    \n",
    "    os.makedirs(data_dir, exist_ok = True)\n",
    "    t_now = datetime.datetime.utcnow()\n",
    "    fn = f'{data_dir}/{t_now:%Y%m%d_%H%M%S}_cml_dummy_data.csv'\n",
    "    df.to_csv(fn)\n",
    "    if print_info:\n",
    "        print(f'created {fn}')\n",
    "\n",
    "\n",
    "create_cml_data_for_current_minute().head()"
   ]
  },
  {
   "cell_type": "code",
   "execution_count": 2,
   "id": "83268331-f77e-426a-b402-37aaa3137694",
   "metadata": {},
   "outputs": [
    {
     "name": "stdout",
     "output_type": "stream",
     "text": [
      "created cml_data/20241002_203437_cml_dummy_data.csv\n"
     ]
    }
   ],
   "source": [
    "write_cml_data_to_file(create_cml_data_for_current_minute(), print_info=True)"
   ]
  },
  {
   "cell_type": "markdown",
   "id": "fd7a1216-5bfa-4856-ae17-c81884c613c4",
   "metadata": {},
   "source": [
    "## Functions to move files to nextcloud"
   ]
  },
  {
   "cell_type": "code",
   "execution_count": 6,
   "id": "3c404ff6-e6a0-4247-8d24-c2d0f3ee10b3",
   "metadata": {},
   "outputs": [
    {
     "name": "stdout",
     "output_type": "stream",
     "text": [
      "File cml_data/20241002_202328_cml_dummy_data.csv uploaded successfully!\n",
      "File cml_data/20241002_202328_cml_dummy_data.csv deleted locally.\n",
      "File cml_data/20241002_202253_cml_dummy_data.csv uploaded successfully!\n",
      "File cml_data/20241002_202253_cml_dummy_data.csv deleted locally.\n",
      "File cml_data/20241002_202308_cml_dummy_data.csv uploaded successfully!\n",
      "File cml_data/20241002_202308_cml_dummy_data.csv deleted locally.\n",
      "File cml_data/20241002_202243_cml_dummy_data.csv uploaded successfully!\n",
      "File cml_data/20241002_202243_cml_dummy_data.csv deleted locally.\n",
      "File cml_data/20241002_202318_cml_dummy_data.csv uploaded successfully!\n",
      "File cml_data/20241002_202318_cml_dummy_data.csv deleted locally.\n",
      "File cml_data/20241002_202238_cml_dummy_data.csv uploaded successfully!\n",
      "File cml_data/20241002_202238_cml_dummy_data.csv deleted locally.\n",
      "File cml_data/20241002_202303_cml_dummy_data.csv uploaded successfully!\n",
      "File cml_data/20241002_202303_cml_dummy_data.csv deleted locally.\n",
      "File cml_data/20241002_202258_cml_dummy_data.csv uploaded successfully!\n",
      "File cml_data/20241002_202258_cml_dummy_data.csv deleted locally.\n",
      "File cml_data/20241002_202313_cml_dummy_data.csv uploaded successfully!\n",
      "File cml_data/20241002_202313_cml_dummy_data.csv deleted locally.\n",
      "File cml_data/20241002_202248_cml_dummy_data.csv uploaded successfully!\n",
      "File cml_data/20241002_202248_cml_dummy_data.csv deleted locally.\n",
      "File cml_data/20241002_202323_cml_dummy_data.csv uploaded successfully!\n",
      "File cml_data/20241002_202323_cml_dummy_data.csv deleted locally.\n",
      "File cml_data/20241002_202333_cml_dummy_data.csv uploaded successfully!\n",
      "File cml_data/20241002_202333_cml_dummy_data.csv deleted locally.\n",
      "File cml_data/20241002_202339_cml_dummy_data.csv uploaded successfully!\n",
      "File cml_data/20241002_202339_cml_dummy_data.csv deleted locally.\n",
      "File cml_data/20241002_203437_cml_dummy_data.csv uploaded successfully!\n",
      "File cml_data/20241002_203437_cml_dummy_data.csv deleted locally.\n"
     ]
    }
   ],
   "source": [
    "import requests\n",
    "import base64\n",
    "\n",
    "def upload_file_to_nextcloud(file_path, username, password, nextcloud_url='https://nextcloud.imk-ifu.kit.edu'):\n",
    "    \"\"\"Uploads a file to Nextcloud using the WebDAV API.\n",
    "\n",
    "    Args:\n",
    "        file_path: The path to the file to upload.\n",
    "        nextcloud_url: The URL of the Nextcloud instance.\n",
    "        username: The Nextcloud username.\n",
    "        password: The Nextcloud password.\n",
    "\n",
    "    Returns:\n",
    "        True if the upload was successful, False otherwise.\n",
    "    \"\"\"\n",
    "\n",
    "    import os\n",
    "    fn = os.path.split(file_path)[-1]\n",
    "    url = f\"{nextcloud_url}/public.php/webdav/{fn}\"\n",
    "    \n",
    "    with open(file_path, \"rb\") as f:\n",
    "        response = requests.put(\n",
    "            url, \n",
    "            auth=('m4rx7xLHzHbHSm3', ''), \n",
    "            headers = {'X-Requested-With': 'XMLHttpRequest',},\n",
    "            data=f,\n",
    "        )\n",
    "\n",
    "    if response.status_code == 201:\n",
    "        print(f\"File {file_path} uploaded successfully!\")\n",
    "        return True\n",
    "    else:\n",
    "        print(f\"Error uploading {file_path}: {response.status_code}\")\n",
    "        return False\n",
    "\n",
    "def move_files_to_nextcloud(data_dir):\n",
    "    import glob\n",
    "    import os\n",
    "    fn_list = glob.glob(f'{data_dir}/*.csv')\n",
    "    for fn in fn_list:\n",
    "        if upload_file_to_nextcloud(fn, username='not_yet_used', password='not_yet_used'):\n",
    "            # Delete the local file if the upload was successful\n",
    "            os.remove(fn)\n",
    "            print(f\"File {fn} deleted locally.\")\n",
    "\n",
    "\n",
    "move_files_to_nextcloud(data_dir='cml_data')"
   ]
  },
  {
   "cell_type": "markdown",
   "id": "95be3d9b-f722-4ef8-8610-a423644e6e23",
   "metadata": {},
   "source": [
    "## Loop to create files, run in the background\n"
   ]
  },
  {
   "cell_type": "code",
   "execution_count": 7,
   "id": "7aceb04c-344c-40f8-918f-9e0b6aacae11",
   "metadata": {},
   "outputs": [
    {
     "name": "stdout",
     "output_type": "stream",
     "text": [
      "created cml_data/20241002_203549_cml_dummy_data.csv\n",
      "created cml_data/20241002_203554_cml_dummy_data.csv\n",
      "created cml_data/20241002_203559_cml_dummy_data.csv\n",
      "created cml_data/20241002_203604_cml_dummy_data.csv\n",
      "created cml_data/20241002_203609_cml_dummy_data.csv\n",
      "created cml_data/20241002_203614_cml_dummy_data.csv\n",
      "created cml_data/20241002_203619_cml_dummy_data.csv\n",
      "created cml_data/20241002_203624_cml_dummy_data.csv\n",
      "created cml_data/20241002_203629_cml_dummy_data.csv\n",
      "created cml_data/20241002_203634_cml_dummy_data.csv\n",
      "created cml_data/20241002_203639_cml_dummy_data.csv\n",
      "created cml_data/20241002_203644_cml_dummy_data.csv\n",
      "created cml_data/20241002_203649_cml_dummy_data.csv\n",
      "created cml_data/20241002_203654_cml_dummy_data.csv\n",
      "created cml_data/20241002_203700_cml_dummy_data.csv\n",
      "created cml_data/20241002_203705_cml_dummy_data.csv\n",
      "created cml_data/20241002_203710_cml_dummy_data.csv\n",
      "created cml_data/20241002_203715_cml_dummy_data.csv\n",
      "created cml_data/20241002_203720_cml_dummy_data.csv\n",
      "created cml_data/20241002_203725_cml_dummy_data.csv\n"
     ]
    }
   ],
   "source": [
    "import time\n",
    "import multiprocessing as mp\n",
    "\n",
    "def file_creation_loop():\n",
    "    for i in range(20):\n",
    "        write_cml_data_to_file(create_cml_data_for_current_minute(), print_info=True)\n",
    "        time.sleep(5)\n",
    "\n",
    "# required on MacOS, see https://github.com/uqfoundation/multiprocess/issues/65\n",
    "mp.set_start_method('fork', force=True) \n",
    "\n",
    "mp.Process(target=file_creation_loop).start()"
   ]
  },
  {
   "cell_type": "code",
   "execution_count": 9,
   "id": "c9b7ddab-db00-45f5-8e43-d8b634c60476",
   "metadata": {},
   "outputs": [
    {
     "name": "stdout",
     "output_type": "stream",
     "text": [
      "File cml_data/20241002_203604_cml_dummy_data.csv uploaded successfully!\n",
      "File cml_data/20241002_203604_cml_dummy_data.csv deleted locally.\n",
      "File cml_data/20241002_203609_cml_dummy_data.csv uploaded successfully!\n",
      "File cml_data/20241002_203609_cml_dummy_data.csv deleted locally.\n",
      "File cml_data/20241002_203619_cml_dummy_data.csv uploaded successfully!\n",
      "File cml_data/20241002_203619_cml_dummy_data.csv deleted locally.\n",
      "File cml_data/20241002_203614_cml_dummy_data.csv uploaded successfully!\n",
      "File cml_data/20241002_203614_cml_dummy_data.csv deleted locally.\n",
      "File cml_data/20241002_203629_cml_dummy_data.csv uploaded successfully!\n",
      "File cml_data/20241002_203629_cml_dummy_data.csv deleted locally.\n",
      "File cml_data/20241002_203624_cml_dummy_data.csv uploaded successfully!\n",
      "File cml_data/20241002_203624_cml_dummy_data.csv deleted locally.\n",
      "File cml_data/20241002_203634_cml_dummy_data.csv uploaded successfully!\n",
      "File cml_data/20241002_203634_cml_dummy_data.csv deleted locally.\n",
      "File cml_data/20241002_203639_cml_dummy_data.csv uploaded successfully!\n",
      "File cml_data/20241002_203639_cml_dummy_data.csv deleted locally.\n"
     ]
    }
   ],
   "source": [
    "move_files_to_nextcloud(data_dir='cml_data')"
   ]
  },
  {
   "cell_type": "code",
   "execution_count": null,
   "id": "20ea332b-5416-490d-89da-ed3c9766d2a8",
   "metadata": {},
   "outputs": [],
   "source": []
  }
 ],
 "metadata": {
  "kernelspec": {
   "display_name": "Python 3 (ipykernel)",
   "language": "python",
   "name": "python3"
  },
  "language_info": {
   "codemirror_mode": {
    "name": "ipython",
    "version": 3
   },
   "file_extension": ".py",
   "mimetype": "text/x-python",
   "name": "python",
   "nbconvert_exporter": "python",
   "pygments_lexer": "ipython3",
   "version": "3.10.14"
  }
 },
 "nbformat": 4,
 "nbformat_minor": 5
}
